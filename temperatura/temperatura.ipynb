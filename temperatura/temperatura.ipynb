{
 "cells": [
  {
   "cell_type": "code",
   "execution_count": null,
   "metadata": {},
   "outputs": [],
   "source": [
    "import numpy\n",
    "import os\n",
    "from scipy import stats\n",
    "import matplotlib.pyplot as plt\n"
   ]
  },
  {
   "cell_type": "code",
   "execution_count": null,
   "metadata": {},
   "outputs": [],
   "source": [
    "arquivo = os.path.join (r'ARQUIVOS\\Temperatura.csv')"
   ]
  },
  {
   "cell_type": "code",
   "execution_count": null,
   "metadata": {},
   "outputs": [],
   "source": [
    "dias, temperaturas  = numpy.loadtxt(arquivo, delimiter=',',skiprows=1,unpack= True)"
   ]
  },
  {
   "cell_type": "code",
   "execution_count": null,
   "metadata": {},
   "outputs": [],
   "source": [
    "#para saber a MÉDIA\n",
    "media = temperaturas.mean()\n",
    "\n",
    "# Para saber a VARIÂNCIA\n",
    "variancia = temperaturas.var()\n",
    "\n",
    "# DESVIO PADRÃO\n",
    "desvio_padrao = temperaturas.std()\n",
    "\n",
    "# Para ter a moda\n",
    "moda = stats.mode(temperaturas)"
   ]
  },
  {
   "cell_type": "code",
   "execution_count": null,
   "metadata": {},
   "outputs": [],
   "source": [
    "print(\"Média:\", media)\n",
    "print(\"Desvio Padrão:\", desvio_padrao)\n",
    "print(\"Variância:\", variancia)\n",
    "print(\"Moda:\", moda.mode)"
   ]
  },
  {
   "cell_type": "code",
   "execution_count": null,
   "metadata": {},
   "outputs": [],
   "source": [
    "# Plot da temperatura ao longo dos dias\n",
    "plt.plot(dias, temperaturas, marker='o')\n",
    "plt.title('Temperatura ao Longo dos Dias')\n",
    "plt.xlabel('Dia')\n",
    "plt.ylabel('Temperatura')\n",
    "plt.grid(True)\n",
    "\n",
    "plt.show()"
   ]
  },
  {
   "cell_type": "code",
   "execution_count": null,
   "metadata": {},
   "outputs": [],
   "source": [
    "temperaturas_unicas, quantidade = numpy.unique(temperaturas, return_counts=True)\n",
    "\n",
    "# Criar o gráfico de barras\n",
    "plt.figure(figsize=(10, 6))\n",
    "plt.bar(temperaturas_unicas, quantidade, color='blue', edgecolor='black')\n",
    "plt.title('Frequência das Temperaturas')\n",
    "plt.xlabel('Temperatura')\n",
    "plt.ylabel('Número de Ocorrências')\n",
    "plt.grid(axis='y', linestyle='-', alpha=0.8)\n",
    "\n",
    "\n",
    "plt.show()"
   ]
  },
  {
   "cell_type": "code",
   "execution_count": null,
   "metadata": {},
   "outputs": [],
   "source": []
  }
 ],
 "metadata": {
  "language_info": {
   "name": "python"
  }
 },
 "nbformat": 4,
 "nbformat_minor": 2
}
